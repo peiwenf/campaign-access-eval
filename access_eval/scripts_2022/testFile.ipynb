{
 "cells": [
  {
   "cell_type": "code",
   "execution_count": 2,
   "metadata": {},
   "outputs": [],
   "source": [
    "#import packages\n",
    "import pandas as pd\n",
    "import os\n",
    "import subprocess"
   ]
  },
  {
   "cell_type": "code",
   "execution_count": 3,
   "metadata": {},
   "outputs": [],
   "source": [
    "#import scraped data\n",
    "df = pd.read_csv(str(os. getcwd())+\"/../analysis/data_2022/House.csv\")\n",
    "df = df.where(pd.notnull(df), None)\n",
    "df = df.dropna(how='all')"
   ]
  },
  {
   "cell_type": "code",
   "execution_count": 16,
   "metadata": {},
   "outputs": [],
   "source": [
    "# remove the cities that none of the candidate have a camp page\n",
    "df1 = df.groupby('Dist', as_index=False).first()\n",
    "noneCity = df1[df1['CampWeb'].isnull()].Dist.tolist()\n",
    "df = df[~df['Dist'].isin(noneCity)]"
   ]
  },
  {
   "cell_type": "code",
   "execution_count": 6,
   "metadata": {},
   "outputs": [
    {
     "name": "stdout",
     "output_type": "stream",
     "text": [
      "1163\n"
     ]
    }
   ],
   "source": [
    "#remove the position webs\n",
    "list = [\".gov\",\".us\"]\n",
    "for i, row in df.iterrows():\n",
    "    if row.CampWeb is not None:\n",
    "        row.CampWeb = row.CampWeb.lower()\n",
    "        if (row.CampWeb[-1] == \"/\" and \n",
    "        row.CampWeb.count(\"/\") > 3) or (row.CampWeb[-1] != \"/\" and \n",
    "        row.CampWeb.count(\"/\") > 2) or (any(item in row.CampWeb for item in list)):\n",
    "            # row.CampWeb = None\n",
    "            print(i)"
   ]
  },
  {
   "cell_type": "code",
   "execution_count": 7,
   "metadata": {},
   "outputs": [
    {
     "data": {
      "text/plain": [
       "Names                                         Ross Lynn Leone\n",
       "Dist                                               Texas 15th\n",
       "CandPage                   https://ballotpedia.org/Ross_Leone\n",
       "CampWeb     https://web.archive.org/web/2/http://www.rossl...\n",
       "CampHand                                                 None\n",
       "OffHand                                                  None\n",
       "PerHand                                                  None\n",
       "Party                                       Libertarian Party\n",
       "Name: 1163, dtype: object"
      ]
     },
     "execution_count": 7,
     "metadata": {},
     "output_type": "execute_result"
    }
   ],
   "source": [
    "df.iloc[1163]"
   ]
  },
  {
   "cell_type": "code",
   "execution_count": 11,
   "metadata": {},
   "outputs": [],
   "source": [
    "#import scraped data\n",
    "df = pd.read_csv(str(os. getcwd())+\"/../data/LocalElections.csv\")\n",
    "df = df.where(pd.notnull(df), None)\n",
    "df = df.dropna(how='all')"
   ]
  },
  {
   "cell_type": "code",
   "execution_count": 14,
   "metadata": {},
   "outputs": [
    {
     "name": "stdout",
     "output_type": "stream",
     "text": [
      "4\n",
      "103\n",
      "8618\n",
      "9929\n",
      "17207\n",
      "18189\n",
      "18495\n",
      "18559\n",
      "18581\n",
      "18758\n",
      "19317\n",
      "19605\n",
      "19649\n",
      "20476\n"
     ]
    }
   ],
   "source": [
    "#remove the position webs\n",
    "# check all except 19758\n",
    "list = [\".gov\",\".us\", \"linkedin\"]\n",
    "for i, row in df.iterrows():\n",
    "    if row.CampWeb is not None:\n",
    "        row.CampWeb = row.CampWeb.lower()\n",
    "        if (row.CampWeb[-1] == \"/\" and \n",
    "        row.CampWeb.count(\"/\") > 3) or (row.CampWeb[-1] != \"/\" and \n",
    "        row.CampWeb.count(\"/\") > 2) or (any(item in row.CampWeb for item in list)):\n",
    "            # row.CampWeb = None\n",
    "            print(i)"
   ]
  },
  {
   "cell_type": "code",
   "execution_count": 32,
   "metadata": {},
   "outputs": [
    {
     "data": {
      "text/plain": [
       "Names                                            D. Lee Gabel\n",
       "County                                              Codington\n",
       "State                                            South Dakota\n",
       "CandPage    https://ballotpedia.org/D._Lee_Gabel_(Codingto...\n",
       "Race                                      County Commissioner\n",
       "Area                                               District 1\n",
       "CampWeb                     https://www.voteleegabel.org/home\n",
       "CampHand                                                 None\n",
       "OffHand                                                   NaN\n",
       "PerHand                                                   NaN\n",
       "Party                                        Republican Party\n",
       "Name: 20476, dtype: object"
      ]
     },
     "execution_count": 32,
     "metadata": {},
     "output_type": "execute_result"
    }
   ],
   "source": [
    "df.iloc[20476]"
   ]
  },
  {
   "cell_type": "code",
   "execution_count": 2,
   "metadata": {},
   "outputs": [],
   "source": [
    "#import scraped data\n",
    "df = pd.read_csv(str(os. getcwd())+\"/../data/AttorneyGeneral.csv\")\n",
    "df = df.where(pd.notnull(df), None)\n",
    "df = df.dropna(how='all')"
   ]
  },
  {
   "cell_type": "code",
   "execution_count": 76,
   "metadata": {},
   "outputs": [
    {
     "data": {
      "text/plain": [
       "Names                                             Tim Griffin\n",
       "State                                                Arkansas\n",
       "CandPage                  https://ballotpedia.org/Tim_Griffin\n",
       "CampWeb     https://ltgovernor.arkansas.gov/about-the-offi...\n",
       "CampHand                                                tg4ag\n",
       "OffHand                                                  None\n",
       "PerHand                                       LtGovTimGriffin\n",
       "Party                                        Republican Party\n",
       "Name: 5, dtype: object"
      ]
     },
     "execution_count": 76,
     "metadata": {},
     "output_type": "execute_result"
    }
   ],
   "source": [
    "df.iloc[5]"
   ]
  },
  {
   "cell_type": "code",
   "execution_count": 3,
   "metadata": {},
   "outputs": [],
   "source": [
    "#remove the position webs\n",
    "list = [\".gov\",\".us\"]\n",
    "for i, row in df.iterrows():\n",
    "    if row.CampWeb is not None:\n",
    "        if (row.CampWeb[-1] == \"/\" and \n",
    "        row.CampWeb.count(\"/\") <= 3) or (row.CampWeb[-1] != \"/\" and \n",
    "        row.CampWeb.count(\"/\") <= 2):\n",
    "            row.CampWeb = row.CampWeb.lower()\n",
    "        if (row.CampWeb[-1] == \"/\" and \n",
    "        row.CampWeb.count(\"/\") > 3) or (row.CampWeb[-1] != \"/\" and \n",
    "        row.CampWeb.count(\"/\") > 2) or (any(item in row.CampWeb for item in list)) \\\n",
    "        or(row.State.lower() in row.CampWeb.lower() and \n",
    "        (row.Names.lower().split()[-1] not in row.CampWeb.lower() and row.Names.lower().split()[0] not in row.CampWeb.lower())):\n",
    "            row.CampWeb = None\n"
   ]
  },
  {
   "cell_type": "code",
   "execution_count": 4,
   "metadata": {},
   "outputs": [],
   "source": [
    "# Add a column for election results \n",
    "df[\"Result\"]=\"Lose\"\n",
    "currentS = \"\"\n",
    "for i, row in df.iterrows():\n",
    "    if row.State is not None:\n",
    "        if row.State != currentS:\n",
    "            currentS = row.State\n",
    "            row.Result = \"Win\""
   ]
  },
  {
   "cell_type": "code",
   "execution_count": 5,
   "metadata": {},
   "outputs": [
    {
     "name": "stdout",
     "output_type": "stream",
     "text": [
      "<class 'pandas.core.frame.DataFrame'>\n",
      "Int64Index: 74 entries, 0 to 73\n",
      "Data columns (total 9 columns):\n",
      " #   Column    Non-Null Count  Dtype \n",
      "---  ------    --------------  ----- \n",
      " 0   Names     74 non-null     object\n",
      " 1   State     74 non-null     object\n",
      " 2   CandPage  74 non-null     object\n",
      " 3   CampWeb   36 non-null     object\n",
      " 4   CampHand  52 non-null     object\n",
      " 5   OffHand   19 non-null     object\n",
      " 6   PerHand   10 non-null     object\n",
      " 7   Party     74 non-null     object\n",
      " 8   Result    74 non-null     object\n",
      "dtypes: object(9)\n",
      "memory usage: 5.8+ KB\n"
     ]
    }
   ],
   "source": [
    "df.info()"
   ]
  },
  {
   "cell_type": "code",
   "execution_count": null,
   "metadata": {},
   "outputs": [],
   "source": [
    "df"
   ]
  },
  {
   "cell_type": "code",
   "execution_count": 6,
   "metadata": {},
   "outputs": [],
   "source": [
    "#Globals\n",
    "COMMAND_TEMPLATE = (\n",
    "    \"gh workflow run \"\n",
    "    \"--repo {repo} \"\n",
    "    \"generate-report.yml \"\n",
    "    \"-f url={link} \"\n",
    ")\n",
    "REPO = \"peiwenf/campaign-access-eval\" # forked repo"
   ]
  },
  {
   "cell_type": "code",
   "execution_count": 7,
   "metadata": {},
   "outputs": [
    {
     "name": "stdout",
     "output_type": "stream",
     "text": [
      "row 1 is done!\n",
      "row 2 is done!\n",
      "row 3 is done!\n",
      "row 6 is done!\n",
      "row 9 is done!\n",
      "row 11 is done!\n",
      "row 13 is done!\n",
      "row 15 is done!\n",
      "row 19 is done!\n",
      "row 21 is done!\n",
      "row 24 is done!\n",
      "row 25 is done!\n",
      "row 26 is done!\n",
      "row 28 is done!\n",
      "row 29 is done!\n",
      "row 30 is done!\n",
      "row 32 is done!\n",
      "row 33 is done!\n",
      "row 35 is done!\n",
      "row 36 is done!\n",
      "row 37 is done!\n",
      "row 39 is done!\n",
      "row 40 is done!\n",
      "row 43 is done!\n",
      "row 46 is done!\n",
      "row 48 is done!\n",
      "row 49 is done!\n",
      "row 50 is done!\n",
      "row 52 is done!\n",
      "row 57 is done!\n",
      "row 60 is done!\n",
      "row 62 is done!\n",
      "row 64 is done!\n",
      "row 66 is done!\n",
      "row 67 is done!\n",
      "row 69 is done!\n"
     ]
    }
   ],
   "source": [
    "#run the github actions for a dataframe\n",
    "for i, row in df.iterrows():\n",
    "    if row.CampWeb is not None:\n",
    "        command = COMMAND_TEMPLATE.format(\n",
    "        repo=REPO,\n",
    "        link=row.CampWeb,\n",
    "        )\n",
    "        proc_resp = subprocess.run(\n",
    "            command.split(\" \"),\n",
    "            check=True,\n",
    "        )\n",
    "        print(f\"row {i} is done!\")"
   ]
  },
  {
   "cell_type": "code",
   "execution_count": 11,
   "metadata": {},
   "outputs": [
    {
     "data": {
      "text/plain": [
       "CompletedProcess(args=['gh', 'run', 'download', '-D', '/Users/fpw/Desktop/research/campaign-access-eval/access_eval/2022/scripts/../reports/AttorneyGeneral'], returncode=0)"
      ]
     },
     "execution_count": 11,
     "metadata": {},
     "output_type": "execute_result"
    }
   ],
   "source": [
    "#download reports\n",
    "store_dir = str(os. getcwd())+\"/../reports/AttorneyGeneral\"\n",
    "subprocess.run([\"gh\", \"run\", \"download\", \"-D\", store_dir])"
   ]
  },
  {
   "cell_type": "code",
   "execution_count": null,
   "metadata": {},
   "outputs": [],
   "source": [
    "# Delete the current workflows- runs after every dataframe - in terminal\n",
    "\n",
    "OWNER=\"peiwenf\"\n",
    "REPO=\"campaign-access-eval\"\n",
    "\n",
    "# list workflows\n",
    "subprocess.run([\"gh\", \"api\", \"-X\", \"GET\", \\\n",
    "\"repos/peiwenf/campaign-access-eval/actions/workflows\", \"|\", \"jq\", \".workflows[]\", \"|\", \\\n",
    "    \".name,.id\"])\n",
    "\n",
    "gh api -X GET repos/peiwenf/campaign-access-eval/actions/workflows | jq '.workflows[] | .name,.id'\n",
    "\n",
    "# copy the ID of the workflow you want to clear and set it\n",
    "WORKFLOW_ID=45319078\n",
    "\n",
    "# list runs\n",
    "gh api -X GET /repos/$OWNER/$REPO/actions/workflows/$WORKFLOW_ID/runs | jq '.workflow_runs[] | .id'\n",
    "\n",
    "# delete runs (you'll have to run this multiple times if there's many because of pagination)\n",
    "gh api -X GET /repos/$OWNER/$REPO/actions/workflows/$WORKFLOW_ID/runs | jq '.workflow_runs[] | .id' | xargs -I{} gh api -X DELETE /repos/$OWNER/$REPO/actions/runs/{}"
   ]
  }
 ],
 "metadata": {
  "kernelspec": {
   "display_name": "bits",
   "language": "python",
   "name": "python3"
  },
  "language_info": {
   "codemirror_mode": {
    "name": "ipython",
    "version": 3
   },
   "file_extension": ".py",
   "mimetype": "text/x-python",
   "name": "python",
   "nbconvert_exporter": "python",
   "pygments_lexer": "ipython3",
   "version": "3.9.15"
  },
  "orig_nbformat": 4,
  "vscode": {
   "interpreter": {
    "hash": "bb250a302f2ea477e3dffbcbe474c2b532ca3ca793b1edea90f05e876f4e3f02"
   }
  }
 },
 "nbformat": 4,
 "nbformat_minor": 2
}
